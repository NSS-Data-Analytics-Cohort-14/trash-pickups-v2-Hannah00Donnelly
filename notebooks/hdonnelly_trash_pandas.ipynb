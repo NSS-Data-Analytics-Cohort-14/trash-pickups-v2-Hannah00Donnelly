{
 "cells": [
  {
   "cell_type": "code",
   "execution_count": 9,
   "id": "10c3e821-d8e8-4385-84d2-b7c47d74d135",
   "metadata": {},
   "outputs": [],
   "source": [
    "import pandas as pd\n",
    "import geopandas as gpd\n",
    "import matplotlib.pyplot as plt\n",
    "import folium\n",
    "from folium.plugins import MarkerCluster\n",
    "from folium.plugins import FastMarkerCluster\n"
   ]
  },
  {
   "cell_type": "code",
   "execution_count": 11,
   "id": "a6bab4ec-60b7-48fe-be94-7703a32c8647",
   "metadata": {},
   "outputs": [
    {
     "name": "stdout",
     "output_type": "stream",
     "text": [
      "Collecting seaborn\n",
      "  Downloading seaborn-0.13.2-py3-none-any.whl.metadata (5.4 kB)\n",
      "Requirement already satisfied: numpy!=1.24.0,>=1.20 in c:\\users\\hanna\\anaconda3\\envs\\geospatial\\lib\\site-packages (from seaborn) (1.26.4)\n",
      "Requirement already satisfied: pandas>=1.2 in c:\\users\\hanna\\anaconda3\\envs\\geospatial\\lib\\site-packages (from seaborn) (2.2.3)\n",
      "Requirement already satisfied: matplotlib!=3.6.1,>=3.4 in c:\\users\\hanna\\anaconda3\\envs\\geospatial\\lib\\site-packages (from seaborn) (3.10.1)\n",
      "Requirement already satisfied: contourpy>=1.0.1 in c:\\users\\hanna\\anaconda3\\envs\\geospatial\\lib\\site-packages (from matplotlib!=3.6.1,>=3.4->seaborn) (1.3.1)\n",
      "Requirement already satisfied: cycler>=0.10 in c:\\users\\hanna\\anaconda3\\envs\\geospatial\\lib\\site-packages (from matplotlib!=3.6.1,>=3.4->seaborn) (0.12.1)\n",
      "Requirement already satisfied: fonttools>=4.22.0 in c:\\users\\hanna\\anaconda3\\envs\\geospatial\\lib\\site-packages (from matplotlib!=3.6.1,>=3.4->seaborn) (4.57.0)\n",
      "Requirement already satisfied: kiwisolver>=1.3.1 in c:\\users\\hanna\\anaconda3\\envs\\geospatial\\lib\\site-packages (from matplotlib!=3.6.1,>=3.4->seaborn) (1.4.7)\n",
      "Requirement already satisfied: packaging>=20.0 in c:\\users\\hanna\\anaconda3\\envs\\geospatial\\lib\\site-packages (from matplotlib!=3.6.1,>=3.4->seaborn) (24.2)\n",
      "Requirement already satisfied: pillow>=8 in c:\\users\\hanna\\anaconda3\\envs\\geospatial\\lib\\site-packages (from matplotlib!=3.6.1,>=3.4->seaborn) (11.1.0)\n",
      "Requirement already satisfied: pyparsing>=2.3.1 in c:\\users\\hanna\\anaconda3\\envs\\geospatial\\lib\\site-packages (from matplotlib!=3.6.1,>=3.4->seaborn) (3.2.3)\n",
      "Requirement already satisfied: python-dateutil>=2.7 in c:\\users\\hanna\\anaconda3\\envs\\geospatial\\lib\\site-packages (from matplotlib!=3.6.1,>=3.4->seaborn) (2.9.0.post0)\n",
      "Requirement already satisfied: pytz>=2020.1 in c:\\users\\hanna\\anaconda3\\envs\\geospatial\\lib\\site-packages (from pandas>=1.2->seaborn) (2025.2)\n",
      "Requirement already satisfied: tzdata>=2022.7 in c:\\users\\hanna\\anaconda3\\envs\\geospatial\\lib\\site-packages (from pandas>=1.2->seaborn) (2025.2)\n",
      "Requirement already satisfied: six>=1.5 in c:\\users\\hanna\\anaconda3\\envs\\geospatial\\lib\\site-packages (from python-dateutil>=2.7->matplotlib!=3.6.1,>=3.4->seaborn) (1.17.0)\n",
      "Downloading seaborn-0.13.2-py3-none-any.whl (294 kB)\n",
      "Installing collected packages: seaborn\n",
      "Successfully installed seaborn-0.13.2\n"
     ]
    }
   ],
   "source": [
    "!pip install seaborn"
   ]
  },
  {
   "cell_type": "code",
   "execution_count": 13,
   "id": "d7f99a71-c6e3-4542-8153-0f4c7b7af3da",
   "metadata": {},
   "outputs": [],
   "source": [
    "import seaborn as sns"
   ]
  },
  {
   "cell_type": "code",
   "execution_count": 19,
   "id": "1932ee4b-14e2-4bfb-bd4a-e3e8129e1872",
   "metadata": {},
   "outputs": [],
   "source": [
    "trash_hauler_df = pd.read_csv('../data/trash_hauler_report_with_lat_lng.csv')"
   ]
  },
  {
   "cell_type": "code",
   "execution_count": 21,
   "id": "070f67e6-d58f-441b-a42b-ae0fcdd245cc",
   "metadata": {},
   "outputs": [
    {
     "name": "stdout",
     "output_type": "stream",
     "text": [
      "   Request Number Date Opened                               Request  \\\n",
      "0           25270   11/1/2017                      Trash - Backdoor   \n",
      "1           25274   11/1/2017  Trash - Curbside/Alley Missed Pickup   \n",
      "2           25276   11/1/2017  Trash - Curbside/Alley Missed Pickup   \n",
      "3           25307   11/1/2017  Trash - Curbside/Alley Missed Pickup   \n",
      "4           25312   11/1/2017  Trash - Curbside/Alley Missed Pickup   \n",
      "\n",
      "                                         Description       Incident Address  \\\n",
      "0  house with the wheel chair ramp, they share dr...         3817 Crouch Dr   \n",
      "1                           Curb/Trash miss Tuesday.  4028 Clarksville Pike   \n",
      "2                           Curb/trash miss Tuesday.    6528 Thunderbird Dr   \n",
      "3                                             missed   2603 old matthews rd   \n",
      "4                  Missed the even side of the road.          604 croley dr   \n",
      "\n",
      "   Zip Code Trash Hauler Trash Route  Council District  State Plan X  \\\n",
      "0   37207.0    RED RIVER        3205               2.0   1727970.412   \n",
      "1   37218.0    RED RIVER        4202               1.0   1721259.366   \n",
      "2   37209.0    RED RIVER        4205              20.0   1707026.753   \n",
      "3   37207.0    WASTE IND        2206               2.0   1735691.771   \n",
      "4   37209.0    RED RIVER        4203              20.0   1710185.772   \n",
      "\n",
      "   State Plan Y  LONGITUDE   LATITUDE  \n",
      "0   686779.4781 -86.815392  36.217292  \n",
      "1   685444.7996 -86.838103  36.213470  \n",
      "2   659887.4716 -86.885562  36.142923  \n",
      "3   685027.2459 -86.789170  36.212652  \n",
      "4   664205.1011 -86.874995  36.154861  \n"
     ]
    }
   ],
   "source": [
    "print(trash_hauler_df.head())"
   ]
  },
  {
   "cell_type": "code",
   "execution_count": 23,
   "id": "98898ddd-650f-42c8-8c6c-fd04f51c50e7",
   "metadata": {},
   "outputs": [
    {
     "name": "stdout",
     "output_type": "stream",
     "text": [
      "       Request Number Date Opened                               Request  \\\n",
      "20221          267125   11/1/2019  Trash - Curbside/Alley Missed Pickup   \n",
      "20222          267126   11/1/2019  Trash - Curbside/Alley Missed Pickup   \n",
      "20223          267130   11/1/2019  Trash - Curbside/Alley Missed Pickup   \n",
      "20224          267134   11/1/2019  Trash - Curbside/Alley Missed Pickup   \n",
      "20225          267137   11/1/2019  Trash - Curbside/Alley Missed Pickup   \n",
      "\n",
      "                                             Description  \\\n",
      "20221                          MISSED...NEIGHBORS MISSED   \n",
      "20222                                       entire alley   \n",
      "20223                                     missed several   \n",
      "20224  Caller stated trash was missed & were only pic...   \n",
      "20225                     possibly others missed as well   \n",
      "\n",
      "                                        Incident Address  Zip Code  \\\n",
      "20221                             2731 Murfreesboro Pike   37013.0   \n",
      "20222  1621 Long Ave, Nashville, TN 37206, United States   37206.0   \n",
      "20223  2943 Windemere Cir, Nashville, TN 37214, Unite...   37214.0   \n",
      "20224  3325 Murfreesboro Pike, Nashville, TN 37013, U...   37013.0   \n",
      "20225  604 Somerset Ct, Nashville, TN 37217, United S...   37217.0   \n",
      "\n",
      "      Trash Hauler Trash Route  Council District  State Plan X  State Plan Y  \\\n",
      "20221    RED RIVER        4502              32.0   1781137.263   632448.5511   \n",
      "20222        METRO        9508               6.0   1749711.399   669201.6016   \n",
      "20223    RED RIVER        1502              15.0   1770293.388   674936.3038   \n",
      "20224    RED RIVER        4502              32.0   1785224.998   627146.4002   \n",
      "20225    RED RIVER        2505              29.0   1781360.323   637742.0068   \n",
      "\n",
      "       LONGITUDE   LATITUDE  \n",
      "20221 -86.633970  36.069130  \n",
      "20222 -86.741242  36.169482  \n",
      "20223 -86.671647  36.185643  \n",
      "20224 -86.620025  36.054637  \n",
      "20225 -86.633331  36.083675  \n"
     ]
    }
   ],
   "source": [
    "print(trash_hauler_df.tail())"
   ]
  },
  {
   "cell_type": "code",
   "execution_count": 27,
   "id": "89b56120-81df-486a-a80b-83bc23472ca8",
   "metadata": {},
   "outputs": [
    {
     "name": "stdout",
     "output_type": "stream",
     "text": [
      "(20226, 13)\n"
     ]
    }
   ],
   "source": [
    "print(trash_hauler_df.shape)"
   ]
  },
  {
   "cell_type": "code",
   "execution_count": 29,
   "id": "1efc06b9-5a6e-47ad-a710-11c7b0fb8313",
   "metadata": {},
   "outputs": [
    {
     "name": "stdout",
     "output_type": "stream",
     "text": [
      "<class 'pandas.core.frame.DataFrame'>\n",
      "RangeIndex: 20226 entries, 0 to 20225\n",
      "Data columns (total 13 columns):\n",
      " #   Column            Non-Null Count  Dtype  \n",
      "---  ------            --------------  -----  \n",
      " 0   Request Number    20226 non-null  int64  \n",
      " 1   Date Opened       20226 non-null  object \n",
      " 2   Request           20226 non-null  object \n",
      " 3   Description       20195 non-null  object \n",
      " 4   Incident Address  20217 non-null  object \n",
      " 5   Zip Code          20151 non-null  float64\n",
      " 6   Trash Hauler      19325 non-null  object \n",
      " 7   Trash Route       19279 non-null  object \n",
      " 8   Council District  20177 non-null  float64\n",
      " 9   State Plan X      20198 non-null  float64\n",
      " 10  State Plan Y      20198 non-null  float64\n",
      " 11  LONGITUDE         20198 non-null  float64\n",
      " 12  LATITUDE          20198 non-null  float64\n",
      "dtypes: float64(6), int64(1), object(6)\n",
      "memory usage: 2.0+ MB\n",
      "None\n"
     ]
    }
   ],
   "source": [
    "print(trash_hauler_df.info())"
   ]
  },
  {
   "cell_type": "code",
   "execution_count": 41,
   "id": "316ba6e1-8f56-4995-a8a1-4f91e5456539",
   "metadata": {},
   "outputs": [
    {
     "name": "stdout",
     "output_type": "stream",
     "text": [
      "['Request Number', 'Date Opened', 'Request', 'Description', 'Incident Address', 'Zip', 'Trash Hauler', 'Trash Route', 'Council District', 'State Plan X', 'State Plan Y', 'lng', 'lat']\n"
     ]
    }
   ],
   "source": [
    "trash_hauler_rename = trash_hauler_df.rename(columns={'Zip Code' : 'Zip', 'LONGITUDE': 'lng', 'LATITUDE' : 'lat'})\n",
    "\n",
    "print(list(trash_hauler_rename.columns))"
   ]
  },
  {
   "cell_type": "markdown",
   "id": "8e684f27-2dde-4eb6-8195-fc9e613daf77",
   "metadata": {},
   "source": [
    "## Missed Trash Pickups\n",
    "\n",
    "In this data question you will be working data of service request related to missed trash pickups from hubNashville, Metro Nashville government's comprehensive customer service system (https://hub.nashville.gov).\n",
    "\n",
    "As part of Metro's contract with Red River Waste Solutions, failure to remedy an action or inaction will result in liquidated damages. \n",
    "\n",
    "One category of liquidated damages is related to chronic problems in any category of service at the same premises. \n",
    "\n",
    "A chronic problem is defined as more than one missed pickup for any address. \n",
    "\n",
    "The first missed pickup will not result in a fine; however, every subsequent missed pickup will result in a $200 fine.\n",
    "\n",
    "Your job is to determine the total amount of damages due to missed pickups. Note that not all rows that you have been provided correspond to missed pickups and that you will need to ensure that you are only counting missed pickups.\n",
    "\n",
    "Total incidents with only 1 missed pickup: 9190\n",
    "\n",
    "Total incidents of more than one missed pickup: 5830\n",
    "\n",
    "After determining the total amount of damages, you can look at other questions:\n",
    "\n",
    "* What other types of complaints are there?\n",
    "\n",
    "Request\n",
    "Trash - Curbside/Alley Missed Pickup    15028\n",
    "Trash - Backdoor                         2629\n",
    "Trash Collection Complaint               2312\n",
    "Damage to Property                        257\n",
    "\n",
    "* Are there any geospatial analysis you can do?  Which visualizations can you create?\n",
    "* How do metro crews compare to the contractor's performance?\n",
    "Trash Haulers Request Count for Each Company:\n",
    "RED RIVER    14395\n",
    "METRO         3512\n",
    "WASTE IND     1350\n",
    "Metro           68\n",
    "\n",
    "\n",
    "* How much does each trash hauler owe?\n",
    "* What were to total missed pickup by route?\n"
   ]
  },
  {
   "cell_type": "code",
   "execution_count": 43,
   "id": "99f5470a-4121-4112-991b-bb9ba8e5569e",
   "metadata": {},
   "outputs": [
    {
     "name": "stdout",
     "output_type": "stream",
     "text": [
      "Request\n",
      "Trash - Curbside/Alley Missed Pickup    15028\n",
      "Trash - Backdoor                         2629\n",
      "Trash Collection Complaint               2312\n",
      "Damage to Property                        257\n",
      "Name: count, dtype: int64\n"
     ]
    }
   ],
   "source": [
    "trash_hauler_requests_type = trash_hauler_rename['Request'].value_counts()\n",
    "\n",
    "print(trash_hauler_requests_type)"
   ]
  },
  {
   "cell_type": "code",
   "execution_count": 63,
   "id": "fc4a35ae-8750-4d0b-847c-57c132311b65",
   "metadata": {},
   "outputs": [
    {
     "name": "stdout",
     "output_type": "stream",
     "text": [
      "Trash Hauler\n",
      "RED RIVER    14395\n",
      "METRO         3512\n",
      "WASTE IND     1350\n",
      "Metro           68\n",
      "Name: count, dtype: int64\n"
     ]
    }
   ],
   "source": [
    "trash_hauler_name = trash_hauler_rename['Trash Hauler'].value_counts()\n",
    "\n",
    "print(trash_hauler_name)"
   ]
  },
  {
   "cell_type": "code",
   "execution_count": 67,
   "id": "6e02c6d1-448f-42fc-aa67-8e2561ea9aa3",
   "metadata": {},
   "outputs": [
    {
     "name": "stdout",
     "output_type": "stream",
     "text": [
      "   Request Number Date Opened                               Request  \\\n",
      "1           25274   11/1/2017  Trash - Curbside/Alley Missed Pickup   \n",
      "2           25276   11/1/2017  Trash - Curbside/Alley Missed Pickup   \n",
      "3           25307   11/1/2017  Trash - Curbside/Alley Missed Pickup   \n",
      "4           25312   11/1/2017  Trash - Curbside/Alley Missed Pickup   \n",
      "8           25330   11/1/2017  Trash - Curbside/Alley Missed Pickup   \n",
      "\n",
      "                         Description               Incident Address      Zip  \\\n",
      "1           Curb/Trash miss Tuesday.          4028 Clarksville Pike  37218.0   \n",
      "2           Curb/trash miss Tuesday.            6528 Thunderbird Dr  37209.0   \n",
      "3                             missed           2603 old matthews rd  37207.0   \n",
      "4  Missed the even side of the road.                  604 croley dr  37209.0   \n",
      "8                            Missed.  4484 Lavergne Couchville Pike  37013.0   \n",
      "\n",
      "  Trash Hauler Trash Route  Council District  State Plan X  State Plan Y  \\\n",
      "1    RED RIVER        4202               1.0   1721259.366   685444.7996   \n",
      "2    RED RIVER        4205              20.0   1707026.753   659887.4716   \n",
      "3    WASTE IND        2206               2.0   1735691.771   685027.2459   \n",
      "4    RED RIVER        4203              20.0   1710185.772   664205.1011   \n",
      "8    RED RIVER        4210              33.0   1794533.514   618749.3427   \n",
      "\n",
      "         lng        lat  \n",
      "1 -86.838103  36.213470  \n",
      "2 -86.885562  36.142923  \n",
      "3 -86.789170  36.212652  \n",
      "4 -86.874995  36.154861  \n",
      "8 -86.588364  36.031728  \n"
     ]
    }
   ],
   "source": [
    "trash_hauler_missed_pickup=trash_hauler_rename[trash_hauler_rename['Request']== 'Trash - Curbside/Alley Missed Pickup']\n",
    "\n",
    "print(trash_hauler_missed_pickup.head())"
   ]
  },
  {
   "cell_type": "code",
   "execution_count": 47,
   "id": "3c9fa96b-1188-4692-80ef-33200c43d064",
   "metadata": {},
   "outputs": [
    {
     "name": "stdout",
     "output_type": "stream",
     "text": [
      "       Request Number Date Opened                               Request  \\\n",
      "20221          267125   11/1/2019  Trash - Curbside/Alley Missed Pickup   \n",
      "20222          267126   11/1/2019  Trash - Curbside/Alley Missed Pickup   \n",
      "20223          267130   11/1/2019  Trash - Curbside/Alley Missed Pickup   \n",
      "20224          267134   11/1/2019  Trash - Curbside/Alley Missed Pickup   \n",
      "20225          267137   11/1/2019  Trash - Curbside/Alley Missed Pickup   \n",
      "\n",
      "                                             Description  \\\n",
      "20221                          MISSED...NEIGHBORS MISSED   \n",
      "20222                                       entire alley   \n",
      "20223                                     missed several   \n",
      "20224  Caller stated trash was missed & were only pic...   \n",
      "20225                     possibly others missed as well   \n",
      "\n",
      "                                        Incident Address      Zip  \\\n",
      "20221                             2731 Murfreesboro Pike  37013.0   \n",
      "20222  1621 Long Ave, Nashville, TN 37206, United States  37206.0   \n",
      "20223  2943 Windemere Cir, Nashville, TN 37214, Unite...  37214.0   \n",
      "20224  3325 Murfreesboro Pike, Nashville, TN 37013, U...  37013.0   \n",
      "20225  604 Somerset Ct, Nashville, TN 37217, United S...  37217.0   \n",
      "\n",
      "      Trash Hauler Trash Route  Council District  State Plan X  State Plan Y  \\\n",
      "20221    RED RIVER        4502              32.0   1781137.263   632448.5511   \n",
      "20222        METRO        9508               6.0   1749711.399   669201.6016   \n",
      "20223    RED RIVER        1502              15.0   1770293.388   674936.3038   \n",
      "20224    RED RIVER        4502              32.0   1785224.998   627146.4002   \n",
      "20225    RED RIVER        2505              29.0   1781360.323   637742.0068   \n",
      "\n",
      "             lng        lat  \n",
      "20221 -86.633970  36.069130  \n",
      "20222 -86.741242  36.169482  \n",
      "20223 -86.671647  36.185643  \n",
      "20224 -86.620025  36.054637  \n",
      "20225 -86.633331  36.083675  \n"
     ]
    }
   ],
   "source": [
    "print(trash_hauler_missed_pickup.tail())"
   ]
  },
  {
   "cell_type": "code",
   "execution_count": 65,
   "id": "64a36d8b-aadc-4f51-831b-3ad3fcfbe153",
   "metadata": {},
   "outputs": [
    {
     "name": "stdout",
     "output_type": "stream",
     "text": [
      "Request\n",
      "Trash - Curbside/Alley Missed Pickup    15028\n",
      "Name: count, dtype: int64\n"
     ]
    }
   ],
   "source": [
    "trash_hauler_requests_type_check = trash_hauler_missed_pickup['Request'].value_counts()\n",
    "print(trash_hauler_requests_type_check)"
   ]
  },
  {
   "cell_type": "code",
   "execution_count": 73,
   "id": "aa901c80-a663-4541-ba8e-e5fcdd29d611",
   "metadata": {},
   "outputs": [
    {
     "name": "stdout",
     "output_type": "stream",
     "text": [
      "Incident Address\n",
      "12546 Old Hickory Blvd, Nashville, TN 37013, United States    19\n",
      "5135 Hickory Hollow Pkwy                                      17\n",
      "802 Crescent Rd, Nashville, TN 37205, United States           17\n",
      "1816 Jo Johnston Ave, Nashville, TN 37203, United States      16\n",
      "607 Estes Rd, Nashville, TN 37215, United States              15\n",
      "                                                              ..\n",
      "3702 Hobbs Rd                                                  2\n",
      "1114 Saunders Ave, Madison, TN 37115, United States            2\n",
      "1824 Shackleford Rd B                                          2\n",
      "4014 Dorcas Dr, Nashville, TN 37215, United States             2\n",
      "109 Jocelyn Hills Rd                                           2\n",
      "Name: count, Length: 2226, dtype: int64\n"
     ]
    }
   ],
   "source": [
    "trash_hauler_address_count = trash_hauler_missed_pickup['Incident Address'].value_counts()\n",
    "\n",
    "repeated_missed_pickup=trash_hauler_address_count[trash_hauler_address_count>1]\n",
    "\n",
    "print(repeated_missed_pickup)"
   ]
  },
  {
   "cell_type": "code",
   "execution_count": 93,
   "id": "5607a741-effb-4b4d-b7f5-18546ee7cdcb",
   "metadata": {},
   "outputs": [
    {
     "name": "stdout",
     "output_type": "stream",
     "text": [
      "    Request Number Date Opened                               Request  \\\n",
      "1            25274   11/1/2017  Trash - Curbside/Alley Missed Pickup   \n",
      "12           25359   11/1/2017  Trash - Curbside/Alley Missed Pickup   \n",
      "19           25454   11/1/2017  Trash - Curbside/Alley Missed Pickup   \n",
      "24           25496   11/1/2017  Trash - Curbside/Alley Missed Pickup   \n",
      "29           25511   11/1/2017  Trash - Curbside/Alley Missed Pickup   \n",
      "\n",
      "                               Description       Incident Address      Zip  \\\n",
      "1                 Curb/Trash miss Tuesday.  4028 Clarksville Pike  37218.0   \n",
      "12  Missed. Does not have access to alley.        830 Meridian St  37207.0   \n",
      "19                                 Missed.        449 Westboro Dr  37209.0   \n",
      "24                           Missed pickup     1815 WOODMONT BLVD  37215.0   \n",
      "29                                 Missed.        259 Sunrise Ave  37211.0   \n",
      "\n",
      "   Trash Hauler Trash Route  Council District  State Plan X  State Plan Y  \\\n",
      "1     RED RIVER        4202               1.0   1721259.366   685444.7996   \n",
      "12        METRO        9207               5.0   1741744.712   675328.6661   \n",
      "19    RED RIVER        4201              20.0   1710615.090   661992.3307   \n",
      "24    RED RIVER        3305              25.0   1730532.216   648861.6319   \n",
      "29    RED RIVER        4304              16.0   1750609.593   645187.6809   \n",
      "\n",
      "          lng        lat  \n",
      "1  -86.838103  36.213470  \n",
      "12 -86.768395  36.186144  \n",
      "19 -86.873474  36.148793  \n",
      "24 -86.805650  36.113194  \n",
      "29 -86.737586  36.103536  \n"
     ]
    }
   ],
   "source": [
    "trash_hauler_address_count = trash_hauler_missed_pickup['Incident Address'].value_counts()\n",
    "repeated_addresses = trash_hauler_address_count[trash_hauler_address_count > 1].index\n",
    "\n",
    "repeated_missed_pickups = trash_hauler_missed_pickup[trash_hauler_missed_pickup['Incident Address'].isin(repeated_addresses)]\n",
    "\n",
    "print(repeated_missed_pickups.head())"
   ]
  },
  {
   "cell_type": "code",
   "execution_count": 115,
   "id": "d28ad41c-e7e6-4eb0-ba3c-96e25b327a36",
   "metadata": {},
   "outputs": [
    {
     "name": "stdout",
     "output_type": "stream",
     "text": [
      "Incident Address\n",
      "12546 Old Hickory Blvd, Nashville, TN 37013, United States    19\n",
      "5135 Hickory Hollow Pkwy                                      17\n",
      "802 Crescent Rd, Nashville, TN 37205, United States           17\n",
      "1816 Jo Johnston Ave, Nashville, TN 37203, United States      16\n",
      "607 Estes Rd, Nashville, TN 37215, United States              15\n",
      "                                                              ..\n",
      "208 Apollo Cir, Nashville, TN 37013, United States             2\n",
      "4422 Winston Ave W, Nashville, TN 37211, United States         2\n",
      "1265 Rural Hill Rd, Nashville, TN 37013, United States         2\n",
      "1413 NAPA PT W, 37013                                          2\n",
      "643 E CAMPBELL RD                                              2\n",
      "Name: count, Length: 2226, dtype: int64\n",
      "Request Number      5830\n",
      "Date Opened         5830\n",
      "Request             5830\n",
      "Description         5822\n",
      "Incident Address    5830\n",
      "Zip                 5822\n",
      "Trash Hauler        5534\n",
      "Trash Route         5522\n",
      "Council District    5825\n",
      "State Plan X        5825\n",
      "State Plan Y        5825\n",
      "lng                 5825\n",
      "lat                 5825\n",
      "dtype: int64\n"
     ]
    }
   ],
   "source": [
    "count_check=repeated_missed_pickups['Incident Address'].value_counts()\n",
    "print(count_check)\n",
    "print(repeated_missed_pickups.count())"
   ]
  },
  {
   "cell_type": "code",
   "execution_count": 111,
   "id": "273608bc-4b46-45b7-977e-f4ed390aeeaa",
   "metadata": {},
   "outputs": [
    {
     "name": "stdout",
     "output_type": "stream",
     "text": [
      "   Request Number Date Opened                               Request  \\\n",
      "2           25276   11/1/2017  Trash - Curbside/Alley Missed Pickup   \n",
      "3           25307   11/1/2017  Trash - Curbside/Alley Missed Pickup   \n",
      "4           25312   11/1/2017  Trash - Curbside/Alley Missed Pickup   \n",
      "8           25330   11/1/2017  Trash - Curbside/Alley Missed Pickup   \n",
      "9           25331   11/1/2017  Trash - Curbside/Alley Missed Pickup   \n",
      "\n",
      "                         Description               Incident Address      Zip  \\\n",
      "2           Curb/trash miss Tuesday.            6528 Thunderbird Dr  37209.0   \n",
      "3                             missed           2603 old matthews rd  37207.0   \n",
      "4  Missed the even side of the road.                  604 croley dr  37209.0   \n",
      "8                            Missed.  4484 Lavergne Couchville Pike  37013.0   \n",
      "9  Trash missed Tuesday again, ALLEY                1206 Ireland St  37208.0   \n",
      "\n",
      "  Trash Hauler Trash Route  Council District  State Plan X  State Plan Y  \\\n",
      "2    RED RIVER        4205              20.0   1707026.753   659887.4716   \n",
      "3    WASTE IND        2206               2.0   1735691.771   685027.2459   \n",
      "4    RED RIVER        4203              20.0   1710185.772   664205.1011   \n",
      "8    RED RIVER        4210              33.0   1794533.514   618749.3427   \n",
      "9        METRO        9208              19.0   1733029.474   668762.6409   \n",
      "\n",
      "         lng        lat  \n",
      "2 -86.885562  36.142923  \n",
      "3 -86.789170  36.212652  \n",
      "4 -86.874995  36.154861  \n",
      "8 -86.588364  36.031728  \n",
      "9 -86.797745  36.167916  \n"
     ]
    }
   ],
   "source": [
    "trash_hauler_address_count = trash_hauler_missed_pickup['Incident Address'].value_counts()\n",
    "single_incident_address = trash_hauler_address_count[trash_hauler_address_count == 1].index\n",
    "\n",
    "one_missed_pickup = trash_hauler_missed_pickup[trash_hauler_missed_pickup['Incident Address'].isin(single_incident_address)]\n",
    "\n",
    "print(one_missed_pickup.head())"
   ]
  },
  {
   "cell_type": "code",
   "execution_count": 113,
   "id": "68a61fa8-008b-4163-8177-2c890d3bd7d2",
   "metadata": {},
   "outputs": [
    {
     "name": "stdout",
     "output_type": "stream",
     "text": [
      "Request Number      9190\n",
      "Date Opened         9190\n",
      "Request             9190\n",
      "Description         9169\n",
      "Incident Address    9190\n",
      "Zip                 9148\n",
      "Trash Hauler        8886\n",
      "Trash Route         8881\n",
      "Council District    9164\n",
      "State Plan X        9180\n",
      "State Plan Y        9180\n",
      "lng                 9180\n",
      "lat                 9180\n",
      "dtype: int64\n"
     ]
    }
   ],
   "source": [
    "print(one_missed_pickup.count())"
   ]
  }
 ],
 "metadata": {
  "kernelspec": {
   "display_name": "Python [conda env:geospatial]",
   "language": "python",
   "name": "conda-env-geospatial-py"
  },
  "language_info": {
   "codemirror_mode": {
    "name": "ipython",
    "version": 3
   },
   "file_extension": ".py",
   "mimetype": "text/x-python",
   "name": "python",
   "nbconvert_exporter": "python",
   "pygments_lexer": "ipython3",
   "version": "3.10.17"
  }
 },
 "nbformat": 4,
 "nbformat_minor": 5
}
