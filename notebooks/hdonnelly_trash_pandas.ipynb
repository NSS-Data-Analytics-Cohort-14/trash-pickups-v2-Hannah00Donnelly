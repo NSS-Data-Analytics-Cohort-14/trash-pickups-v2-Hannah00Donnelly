{
 "cells": [
  {
   "cell_type": "code",
   "execution_count": 9,
   "id": "10c3e821-d8e8-4385-84d2-b7c47d74d135",
   "metadata": {},
   "outputs": [],
   "source": [
    "import pandas as pd\n",
    "import geopandas as gpd\n",
    "import matplotlib.pyplot as plt\n",
    "import folium\n",
    "from folium.plugins import MarkerCluster\n",
    "from folium.plugins import FastMarkerCluster\n"
   ]
  },
  {
   "cell_type": "code",
   "execution_count": 11,
   "id": "a6bab4ec-60b7-48fe-be94-7703a32c8647",
   "metadata": {},
   "outputs": [
    {
     "name": "stdout",
     "output_type": "stream",
     "text": [
      "Collecting seaborn\n",
      "  Downloading seaborn-0.13.2-py3-none-any.whl.metadata (5.4 kB)\n",
      "Requirement already satisfied: numpy!=1.24.0,>=1.20 in c:\\users\\hanna\\anaconda3\\envs\\geospatial\\lib\\site-packages (from seaborn) (1.26.4)\n",
      "Requirement already satisfied: pandas>=1.2 in c:\\users\\hanna\\anaconda3\\envs\\geospatial\\lib\\site-packages (from seaborn) (2.2.3)\n",
      "Requirement already satisfied: matplotlib!=3.6.1,>=3.4 in c:\\users\\hanna\\anaconda3\\envs\\geospatial\\lib\\site-packages (from seaborn) (3.10.1)\n",
      "Requirement already satisfied: contourpy>=1.0.1 in c:\\users\\hanna\\anaconda3\\envs\\geospatial\\lib\\site-packages (from matplotlib!=3.6.1,>=3.4->seaborn) (1.3.1)\n",
      "Requirement already satisfied: cycler>=0.10 in c:\\users\\hanna\\anaconda3\\envs\\geospatial\\lib\\site-packages (from matplotlib!=3.6.1,>=3.4->seaborn) (0.12.1)\n",
      "Requirement already satisfied: fonttools>=4.22.0 in c:\\users\\hanna\\anaconda3\\envs\\geospatial\\lib\\site-packages (from matplotlib!=3.6.1,>=3.4->seaborn) (4.57.0)\n",
      "Requirement already satisfied: kiwisolver>=1.3.1 in c:\\users\\hanna\\anaconda3\\envs\\geospatial\\lib\\site-packages (from matplotlib!=3.6.1,>=3.4->seaborn) (1.4.7)\n",
      "Requirement already satisfied: packaging>=20.0 in c:\\users\\hanna\\anaconda3\\envs\\geospatial\\lib\\site-packages (from matplotlib!=3.6.1,>=3.4->seaborn) (24.2)\n",
      "Requirement already satisfied: pillow>=8 in c:\\users\\hanna\\anaconda3\\envs\\geospatial\\lib\\site-packages (from matplotlib!=3.6.1,>=3.4->seaborn) (11.1.0)\n",
      "Requirement already satisfied: pyparsing>=2.3.1 in c:\\users\\hanna\\anaconda3\\envs\\geospatial\\lib\\site-packages (from matplotlib!=3.6.1,>=3.4->seaborn) (3.2.3)\n",
      "Requirement already satisfied: python-dateutil>=2.7 in c:\\users\\hanna\\anaconda3\\envs\\geospatial\\lib\\site-packages (from matplotlib!=3.6.1,>=3.4->seaborn) (2.9.0.post0)\n",
      "Requirement already satisfied: pytz>=2020.1 in c:\\users\\hanna\\anaconda3\\envs\\geospatial\\lib\\site-packages (from pandas>=1.2->seaborn) (2025.2)\n",
      "Requirement already satisfied: tzdata>=2022.7 in c:\\users\\hanna\\anaconda3\\envs\\geospatial\\lib\\site-packages (from pandas>=1.2->seaborn) (2025.2)\n",
      "Requirement already satisfied: six>=1.5 in c:\\users\\hanna\\anaconda3\\envs\\geospatial\\lib\\site-packages (from python-dateutil>=2.7->matplotlib!=3.6.1,>=3.4->seaborn) (1.17.0)\n",
      "Downloading seaborn-0.13.2-py3-none-any.whl (294 kB)\n",
      "Installing collected packages: seaborn\n",
      "Successfully installed seaborn-0.13.2\n"
     ]
    }
   ],
   "source": [
    "!pip install seaborn"
   ]
  },
  {
   "cell_type": "code",
   "execution_count": 13,
   "id": "d7f99a71-c6e3-4542-8153-0f4c7b7af3da",
   "metadata": {},
   "outputs": [],
   "source": [
    "import seaborn as sns"
   ]
  },
  {
   "cell_type": "code",
   "execution_count": 19,
   "id": "1932ee4b-14e2-4bfb-bd4a-e3e8129e1872",
   "metadata": {},
   "outputs": [],
   "source": [
    "trash_hauler_df = pd.read_csv('../data/trash_hauler_report_with_lat_lng.csv')"
   ]
  },
  {
   "cell_type": "code",
   "execution_count": 21,
   "id": "070f67e6-d58f-441b-a42b-ae0fcdd245cc",
   "metadata": {},
   "outputs": [
    {
     "name": "stdout",
     "output_type": "stream",
     "text": [
      "   Request Number Date Opened                               Request  \\\n",
      "0           25270   11/1/2017                      Trash - Backdoor   \n",
      "1           25274   11/1/2017  Trash - Curbside/Alley Missed Pickup   \n",
      "2           25276   11/1/2017  Trash - Curbside/Alley Missed Pickup   \n",
      "3           25307   11/1/2017  Trash - Curbside/Alley Missed Pickup   \n",
      "4           25312   11/1/2017  Trash - Curbside/Alley Missed Pickup   \n",
      "\n",
      "                                         Description       Incident Address  \\\n",
      "0  house with the wheel chair ramp, they share dr...         3817 Crouch Dr   \n",
      "1                           Curb/Trash miss Tuesday.  4028 Clarksville Pike   \n",
      "2                           Curb/trash miss Tuesday.    6528 Thunderbird Dr   \n",
      "3                                             missed   2603 old matthews rd   \n",
      "4                  Missed the even side of the road.          604 croley dr   \n",
      "\n",
      "   Zip Code Trash Hauler Trash Route  Council District  State Plan X  \\\n",
      "0   37207.0    RED RIVER        3205               2.0   1727970.412   \n",
      "1   37218.0    RED RIVER        4202               1.0   1721259.366   \n",
      "2   37209.0    RED RIVER        4205              20.0   1707026.753   \n",
      "3   37207.0    WASTE IND        2206               2.0   1735691.771   \n",
      "4   37209.0    RED RIVER        4203              20.0   1710185.772   \n",
      "\n",
      "   State Plan Y  LONGITUDE   LATITUDE  \n",
      "0   686779.4781 -86.815392  36.217292  \n",
      "1   685444.7996 -86.838103  36.213470  \n",
      "2   659887.4716 -86.885562  36.142923  \n",
      "3   685027.2459 -86.789170  36.212652  \n",
      "4   664205.1011 -86.874995  36.154861  \n"
     ]
    }
   ],
   "source": [
    "print(trash_hauler_df.head())"
   ]
  },
  {
   "cell_type": "code",
   "execution_count": 23,
   "id": "98898ddd-650f-42c8-8c6c-fd04f51c50e7",
   "metadata": {},
   "outputs": [
    {
     "name": "stdout",
     "output_type": "stream",
     "text": [
      "       Request Number Date Opened                               Request  \\\n",
      "20221          267125   11/1/2019  Trash - Curbside/Alley Missed Pickup   \n",
      "20222          267126   11/1/2019  Trash - Curbside/Alley Missed Pickup   \n",
      "20223          267130   11/1/2019  Trash - Curbside/Alley Missed Pickup   \n",
      "20224          267134   11/1/2019  Trash - Curbside/Alley Missed Pickup   \n",
      "20225          267137   11/1/2019  Trash - Curbside/Alley Missed Pickup   \n",
      "\n",
      "                                             Description  \\\n",
      "20221                          MISSED...NEIGHBORS MISSED   \n",
      "20222                                       entire alley   \n",
      "20223                                     missed several   \n",
      "20224  Caller stated trash was missed & were only pic...   \n",
      "20225                     possibly others missed as well   \n",
      "\n",
      "                                        Incident Address  Zip Code  \\\n",
      "20221                             2731 Murfreesboro Pike   37013.0   \n",
      "20222  1621 Long Ave, Nashville, TN 37206, United States   37206.0   \n",
      "20223  2943 Windemere Cir, Nashville, TN 37214, Unite...   37214.0   \n",
      "20224  3325 Murfreesboro Pike, Nashville, TN 37013, U...   37013.0   \n",
      "20225  604 Somerset Ct, Nashville, TN 37217, United S...   37217.0   \n",
      "\n",
      "      Trash Hauler Trash Route  Council District  State Plan X  State Plan Y  \\\n",
      "20221    RED RIVER        4502              32.0   1781137.263   632448.5511   \n",
      "20222        METRO        9508               6.0   1749711.399   669201.6016   \n",
      "20223    RED RIVER        1502              15.0   1770293.388   674936.3038   \n",
      "20224    RED RIVER        4502              32.0   1785224.998   627146.4002   \n",
      "20225    RED RIVER        2505              29.0   1781360.323   637742.0068   \n",
      "\n",
      "       LONGITUDE   LATITUDE  \n",
      "20221 -86.633970  36.069130  \n",
      "20222 -86.741242  36.169482  \n",
      "20223 -86.671647  36.185643  \n",
      "20224 -86.620025  36.054637  \n",
      "20225 -86.633331  36.083675  \n"
     ]
    }
   ],
   "source": [
    "print(trash_hauler_df.tail())"
   ]
  },
  {
   "cell_type": "code",
   "execution_count": 27,
   "id": "89b56120-81df-486a-a80b-83bc23472ca8",
   "metadata": {},
   "outputs": [
    {
     "name": "stdout",
     "output_type": "stream",
     "text": [
      "(20226, 13)\n"
     ]
    }
   ],
   "source": [
    "print(trash_hauler_df.shape)"
   ]
  },
  {
   "cell_type": "code",
   "execution_count": 29,
   "id": "1efc06b9-5a6e-47ad-a710-11c7b0fb8313",
   "metadata": {},
   "outputs": [
    {
     "name": "stdout",
     "output_type": "stream",
     "text": [
      "<class 'pandas.core.frame.DataFrame'>\n",
      "RangeIndex: 20226 entries, 0 to 20225\n",
      "Data columns (total 13 columns):\n",
      " #   Column            Non-Null Count  Dtype  \n",
      "---  ------            --------------  -----  \n",
      " 0   Request Number    20226 non-null  int64  \n",
      " 1   Date Opened       20226 non-null  object \n",
      " 2   Request           20226 non-null  object \n",
      " 3   Description       20195 non-null  object \n",
      " 4   Incident Address  20217 non-null  object \n",
      " 5   Zip Code          20151 non-null  float64\n",
      " 6   Trash Hauler      19325 non-null  object \n",
      " 7   Trash Route       19279 non-null  object \n",
      " 8   Council District  20177 non-null  float64\n",
      " 9   State Plan X      20198 non-null  float64\n",
      " 10  State Plan Y      20198 non-null  float64\n",
      " 11  LONGITUDE         20198 non-null  float64\n",
      " 12  LATITUDE          20198 non-null  float64\n",
      "dtypes: float64(6), int64(1), object(6)\n",
      "memory usage: 2.0+ MB\n",
      "None\n"
     ]
    }
   ],
   "source": [
    "print(trash_hauler_df.info())"
   ]
  },
  {
   "cell_type": "code",
   "execution_count": 41,
   "id": "316ba6e1-8f56-4995-a8a1-4f91e5456539",
   "metadata": {},
   "outputs": [
    {
     "name": "stdout",
     "output_type": "stream",
     "text": [
      "['Request Number', 'Date Opened', 'Request', 'Description', 'Incident Address', 'Zip', 'Trash Hauler', 'Trash Route', 'Council District', 'State Plan X', 'State Plan Y', 'lng', 'lat']\n"
     ]
    }
   ],
   "source": [
    "trash_hauler_rename = trash_hauler_df.rename(columns={'Zip Code' : 'Zip', 'LONGITUDE': 'lng', 'LATITUDE' : 'lat'})\n",
    "\n",
    "print(list(trash_hauler_rename.columns))"
   ]
  },
  {
   "cell_type": "code",
   "execution_count": 155,
   "id": "01271e52-27e4-4031-80aa-15f9d8f1e2ac",
   "metadata": {},
   "outputs": [
    {
     "data": {
      "text/html": [
       "<div>\n",
       "<style scoped>\n",
       "    .dataframe tbody tr th:only-of-type {\n",
       "        vertical-align: middle;\n",
       "    }\n",
       "\n",
       "    .dataframe tbody tr th {\n",
       "        vertical-align: top;\n",
       "    }\n",
       "\n",
       "    .dataframe thead th {\n",
       "        text-align: right;\n",
       "    }\n",
       "</style>\n",
       "<table border=\"1\" class=\"dataframe\">\n",
       "  <thead>\n",
       "    <tr style=\"text-align: right;\">\n",
       "      <th></th>\n",
       "      <th>Request Number</th>\n",
       "      <th>Date Opened</th>\n",
       "      <th>Request</th>\n",
       "      <th>Description</th>\n",
       "      <th>Incident Address</th>\n",
       "      <th>Zip</th>\n",
       "      <th>Trash Hauler</th>\n",
       "      <th>Trash Route</th>\n",
       "      <th>Council District</th>\n",
       "      <th>State Plan X</th>\n",
       "      <th>State Plan Y</th>\n",
       "      <th>lng</th>\n",
       "      <th>lat</th>\n",
       "    </tr>\n",
       "  </thead>\n",
       "  <tbody>\n",
       "    <tr>\n",
       "      <th>0</th>\n",
       "      <td>25270</td>\n",
       "      <td>11/1/2017</td>\n",
       "      <td>Trash - Backdoor</td>\n",
       "      <td>house with the wheel chair ramp, they share dr...</td>\n",
       "      <td>3817 crouch dr</td>\n",
       "      <td>37207.0</td>\n",
       "      <td>RED RIVER</td>\n",
       "      <td>3205</td>\n",
       "      <td>2.0</td>\n",
       "      <td>1727970.412</td>\n",
       "      <td>686779.4781</td>\n",
       "      <td>-86.815392</td>\n",
       "      <td>36.217292</td>\n",
       "    </tr>\n",
       "    <tr>\n",
       "      <th>1</th>\n",
       "      <td>25274</td>\n",
       "      <td>11/1/2017</td>\n",
       "      <td>Trash - Curbside/Alley Missed Pickup</td>\n",
       "      <td>Curb/Trash miss Tuesday.</td>\n",
       "      <td>4028 clarksville pike</td>\n",
       "      <td>37218.0</td>\n",
       "      <td>RED RIVER</td>\n",
       "      <td>4202</td>\n",
       "      <td>1.0</td>\n",
       "      <td>1721259.366</td>\n",
       "      <td>685444.7996</td>\n",
       "      <td>-86.838103</td>\n",
       "      <td>36.213470</td>\n",
       "    </tr>\n",
       "    <tr>\n",
       "      <th>2</th>\n",
       "      <td>25276</td>\n",
       "      <td>11/1/2017</td>\n",
       "      <td>Trash - Curbside/Alley Missed Pickup</td>\n",
       "      <td>Curb/trash miss Tuesday.</td>\n",
       "      <td>6528 thunderbird dr</td>\n",
       "      <td>37209.0</td>\n",
       "      <td>RED RIVER</td>\n",
       "      <td>4205</td>\n",
       "      <td>20.0</td>\n",
       "      <td>1707026.753</td>\n",
       "      <td>659887.4716</td>\n",
       "      <td>-86.885562</td>\n",
       "      <td>36.142923</td>\n",
       "    </tr>\n",
       "    <tr>\n",
       "      <th>3</th>\n",
       "      <td>25307</td>\n",
       "      <td>11/1/2017</td>\n",
       "      <td>Trash - Curbside/Alley Missed Pickup</td>\n",
       "      <td>missed</td>\n",
       "      <td>2603 old matthews rd</td>\n",
       "      <td>37207.0</td>\n",
       "      <td>WASTE IND</td>\n",
       "      <td>2206</td>\n",
       "      <td>2.0</td>\n",
       "      <td>1735691.771</td>\n",
       "      <td>685027.2459</td>\n",
       "      <td>-86.789170</td>\n",
       "      <td>36.212652</td>\n",
       "    </tr>\n",
       "    <tr>\n",
       "      <th>4</th>\n",
       "      <td>25312</td>\n",
       "      <td>11/1/2017</td>\n",
       "      <td>Trash - Curbside/Alley Missed Pickup</td>\n",
       "      <td>Missed the even side of the road.</td>\n",
       "      <td>604 croley dr</td>\n",
       "      <td>37209.0</td>\n",
       "      <td>RED RIVER</td>\n",
       "      <td>4203</td>\n",
       "      <td>20.0</td>\n",
       "      <td>1710185.772</td>\n",
       "      <td>664205.1011</td>\n",
       "      <td>-86.874995</td>\n",
       "      <td>36.154861</td>\n",
       "    </tr>\n",
       "  </tbody>\n",
       "</table>\n",
       "</div>"
      ],
      "text/plain": [
       "   Request Number Date Opened                               Request  \\\n",
       "0           25270   11/1/2017                      Trash - Backdoor   \n",
       "1           25274   11/1/2017  Trash - Curbside/Alley Missed Pickup   \n",
       "2           25276   11/1/2017  Trash - Curbside/Alley Missed Pickup   \n",
       "3           25307   11/1/2017  Trash - Curbside/Alley Missed Pickup   \n",
       "4           25312   11/1/2017  Trash - Curbside/Alley Missed Pickup   \n",
       "\n",
       "                                         Description       Incident Address  \\\n",
       "0  house with the wheel chair ramp, they share dr...         3817 crouch dr   \n",
       "1                           Curb/Trash miss Tuesday.  4028 clarksville pike   \n",
       "2                           Curb/trash miss Tuesday.    6528 thunderbird dr   \n",
       "3                                             missed   2603 old matthews rd   \n",
       "4                  Missed the even side of the road.          604 croley dr   \n",
       "\n",
       "       Zip Trash Hauler Trash Route  Council District  State Plan X  \\\n",
       "0  37207.0    RED RIVER        3205               2.0   1727970.412   \n",
       "1  37218.0    RED RIVER        4202               1.0   1721259.366   \n",
       "2  37209.0    RED RIVER        4205              20.0   1707026.753   \n",
       "3  37207.0    WASTE IND        2206               2.0   1735691.771   \n",
       "4  37209.0    RED RIVER        4203              20.0   1710185.772   \n",
       "\n",
       "   State Plan Y        lng        lat  \n",
       "0   686779.4781 -86.815392  36.217292  \n",
       "1   685444.7996 -86.838103  36.213470  \n",
       "2   659887.4716 -86.885562  36.142923  \n",
       "3   685027.2459 -86.789170  36.212652  \n",
       "4   664205.1011 -86.874995  36.154861  "
      ]
     },
     "execution_count": 155,
     "metadata": {},
     "output_type": "execute_result"
    }
   ],
   "source": [
    "trash_hauler_rename['Incident Address']=trash_hauler_rename['Incident Address'].str.lower()\n",
    "trash_hauler_rename.head()"
   ]
  },
  {
   "cell_type": "markdown",
   "id": "8e684f27-2dde-4eb6-8195-fc9e613daf77",
   "metadata": {},
   "source": [
    "## Missed Trash Pickups\n",
    "\n",
    "In this data question you will be working data of service request related to missed trash pickups from hubNashville, Metro Nashville government's comprehensive customer service system (https://hub.nashville.gov).\n",
    "\n",
    "As part of Metro's contract with Red River Waste Solutions, failure to remedy an action or inaction will result in liquidated damages. \n",
    "\n",
    "One category of liquidated damages is related to chronic problems in any category of service at the same premises. \n",
    "\n",
    "A chronic problem is defined as more than one missed pickup for any address. \n",
    "\n",
    "The first missed pickup will not result in a fine; however, every subsequent missed pickup will result in a $200 fine.\n",
    "\n",
    "Your job is to determine the total amount of damages due to missed pickups. Note that not all rows that you have been provided correspond to missed pickups and that you will need to ensure that you are only counting missed pickups.\n",
    "\n",
    "Total damages due to missed pickups: $762,600\n",
    "\n",
    "Total number of Trash - Curbside/Alley Missed Pickup: 15028\n",
    "\n",
    "Total incidents with only 1 missed pickup: 8896\n",
    "Request Number      8896\n",
    "Date Opened         8896\n",
    "Request             8896\n",
    "Description         8875\n",
    "Incident Address    8896\n",
    "Zip                 8856\n",
    "Trash Hauler        8602\n",
    "Trash Route         8599\n",
    "Council District    8872\n",
    "State Plan X        8887\n",
    "State Plan Y        8887\n",
    "lng                 8887\n",
    "lat                 8887\n",
    "\n",
    "Total incidents of more than one missed pickup: 6124\n",
    "Request Number      6124\n",
    "Date Opened         6124\n",
    "Request             6124\n",
    "Description         6116\n",
    "Incident Address    6124\n",
    "Zip                 6114\n",
    "Trash Hauler        5818\n",
    "Trash Route         5804\n",
    "Council District    6117\n",
    "State Plan X        6118\n",
    "State Plan Y        6118\n",
    "lng                 6118\n",
    "lat                 6118\n",
    "\n",
    "The 8 missing pick ups are NaN values for the address. Will be unable to factor these into the more than one missed pickup fines.\n",
    "\n",
    "After determining the total amount of damages, you can look at other questions:\n",
    "\n",
    "* What other types of complaints are there?\n",
    "\n",
    "Request\n",
    "Trash - Curbside/Alley Missed Pickup    15028\n",
    "Trash - Backdoor                         2629\n",
    "Trash Collection Complaint               2312\n",
    "Damage to Property                        257\n",
    "\n",
    "* Are there any geospatial analysis you can do?  Which visualizations can you create?\n",
    "\n",
    "  \n",
    "* How do metro crews compare to the contractor's performance?\n",
    "\n",
    "Trash Haulers Request Count for Each Company:\n",
    "RED RIVER    14395\n",
    "METRO         3512\n",
    "WASTE IND     1350\n",
    "Metro           68\n",
    "\n",
    "\n",
    "* How much does each trash hauler owe?\n",
    "\n",
    "Trash Hauler\n",
    "METRO        128200\n",
    "Metro          3200\n",
    "RED RIVER    540200\n",
    "WASTE IND     48400\n",
    "NaN           42600\n",
    "There are some NaN values in the trash hauler column. \n",
    "  \n",
    "* What were to total missed pickup by route?\n",
    "\n",
    "Top 5:\n",
    "Trash Route\n",
    "NaN     617\n",
    "4504    305\n",
    "4404    246\n",
    "3302    230\n",
    "3305    215"
   ]
  },
  {
   "cell_type": "code",
   "execution_count": 313,
   "id": "fc4a35ae-8750-4d0b-847c-57c132311b65",
   "metadata": {},
   "outputs": [
    {
     "name": "stdout",
     "output_type": "stream",
     "text": [
      "Trash Hauler\n",
      "RED RIVER    14395\n",
      "METRO         3512\n",
      "WASTE IND     1350\n",
      "Metro           68\n",
      "Name: count, dtype: int64\n"
     ]
    }
   ],
   "source": [
    "trash_hauler_companies = trash_hauler_rename['Trash Hauler'].value_counts()\n",
    "\n",
    "print(trash_hauler_companies)"
   ]
  },
  {
   "cell_type": "code",
   "execution_count": 315,
   "id": "6e02c6d1-448f-42fc-aa67-8e2561ea9aa3",
   "metadata": {},
   "outputs": [
    {
     "name": "stdout",
     "output_type": "stream",
     "text": [
      "   Request Number Date Opened                               Request  \\\n",
      "1           25274   11/1/2017  Trash - Curbside/Alley Missed Pickup   \n",
      "2           25276   11/1/2017  Trash - Curbside/Alley Missed Pickup   \n",
      "3           25307   11/1/2017  Trash - Curbside/Alley Missed Pickup   \n",
      "4           25312   11/1/2017  Trash - Curbside/Alley Missed Pickup   \n",
      "8           25330   11/1/2017  Trash - Curbside/Alley Missed Pickup   \n",
      "\n",
      "                         Description               Incident Address      Zip  \\\n",
      "1           Curb/Trash miss Tuesday.          4028 clarksville pike  37218.0   \n",
      "2           Curb/trash miss Tuesday.            6528 thunderbird dr  37209.0   \n",
      "3                             missed           2603 old matthews rd  37207.0   \n",
      "4  Missed the even side of the road.                  604 croley dr  37209.0   \n",
      "8                            Missed.  4484 lavergne couchville pike  37013.0   \n",
      "\n",
      "  Trash Hauler Trash Route  Council District  State Plan X  State Plan Y  \\\n",
      "1    RED RIVER        4202               1.0   1721259.366   685444.7996   \n",
      "2    RED RIVER        4205              20.0   1707026.753   659887.4716   \n",
      "3    WASTE IND        2206               2.0   1735691.771   685027.2459   \n",
      "4    RED RIVER        4203              20.0   1710185.772   664205.1011   \n",
      "8    RED RIVER        4210              33.0   1794533.514   618749.3427   \n",
      "\n",
      "         lng        lat  \n",
      "1 -86.838103  36.213470  \n",
      "2 -86.885562  36.142923  \n",
      "3 -86.789170  36.212652  \n",
      "4 -86.874995  36.154861  \n",
      "8 -86.588364  36.031728  \n"
     ]
    }
   ],
   "source": [
    "trash_hauler_missed_pickup=trash_hauler_rename[trash_hauler_rename['Request']== 'Trash - Curbside/Alley Missed Pickup']\n",
    "\n",
    "print(trash_hauler_missed_pickup.head())"
   ]
  },
  {
   "cell_type": "code",
   "execution_count": 317,
   "id": "70d4b162-4054-41dd-8bb0-d4dac5ce047d",
   "metadata": {},
   "outputs": [
    {
     "name": "stdout",
     "output_type": "stream",
     "text": [
      "       Request Number Date Opened                               Request  \\\n",
      "20221          267125   11/1/2019  Trash - Curbside/Alley Missed Pickup   \n",
      "20222          267126   11/1/2019  Trash - Curbside/Alley Missed Pickup   \n",
      "20223          267130   11/1/2019  Trash - Curbside/Alley Missed Pickup   \n",
      "20224          267134   11/1/2019  Trash - Curbside/Alley Missed Pickup   \n",
      "20225          267137   11/1/2019  Trash - Curbside/Alley Missed Pickup   \n",
      "\n",
      "                                             Description  \\\n",
      "20221                          MISSED...NEIGHBORS MISSED   \n",
      "20222                                       entire alley   \n",
      "20223                                     missed several   \n",
      "20224  Caller stated trash was missed & were only pic...   \n",
      "20225                     possibly others missed as well   \n",
      "\n",
      "                                        Incident Address      Zip  \\\n",
      "20221                             2731 murfreesboro pike  37013.0   \n",
      "20222  1621 long ave, nashville, tn 37206, united states  37206.0   \n",
      "20223  2943 windemere cir, nashville, tn 37214, unite...  37214.0   \n",
      "20224  3325 murfreesboro pike, nashville, tn 37013, u...  37013.0   \n",
      "20225  604 somerset ct, nashville, tn 37217, united s...  37217.0   \n",
      "\n",
      "      Trash Hauler Trash Route  Council District  State Plan X  State Plan Y  \\\n",
      "20221    RED RIVER        4502              32.0   1781137.263   632448.5511   \n",
      "20222        METRO        9508               6.0   1749711.399   669201.6016   \n",
      "20223    RED RIVER        1502              15.0   1770293.388   674936.3038   \n",
      "20224    RED RIVER        4502              32.0   1785224.998   627146.4002   \n",
      "20225    RED RIVER        2505              29.0   1781360.323   637742.0068   \n",
      "\n",
      "             lng        lat  \n",
      "20221 -86.633970  36.069130  \n",
      "20222 -86.741242  36.169482  \n",
      "20223 -86.671647  36.185643  \n",
      "20224 -86.620025  36.054637  \n",
      "20225 -86.633331  36.083675  \n"
     ]
    }
   ],
   "source": [
    "print(trash_hauler_missed_pickup.tail())"
   ]
  },
  {
   "cell_type": "code",
   "execution_count": 319,
   "id": "e5ce5884-8096-4589-a811-f146a5618c8b",
   "metadata": {},
   "outputs": [
    {
     "name": "stdout",
     "output_type": "stream",
     "text": [
      "Request\n",
      "Trash - Curbside/Alley Missed Pickup    15028\n",
      "Name: count, dtype: int64\n"
     ]
    }
   ],
   "source": [
    "trash_hauler_missed_pickup_count = trash_hauler_missed_pickup['Request'].value_counts()\n",
    "\n",
    "print(trash_hauler_missed_pickup_count)"
   ]
  },
  {
   "cell_type": "markdown",
   "id": "b2ffda17-bd9e-427d-9d9c-0f1dd5e5b76f",
   "metadata": {},
   "source": [
    "Using .index with .isin tells pandas which rows (by their index labels) I want to keep or filter out."
   ]
  },
  {
   "cell_type": "code",
   "execution_count": 321,
   "id": "5607a741-effb-4b4d-b7f5-18546ee7cdcb",
   "metadata": {},
   "outputs": [
    {
     "name": "stdout",
     "output_type": "stream",
     "text": [
      "    Request Number Date Opened                               Request  \\\n",
      "1            25274   11/1/2017  Trash - Curbside/Alley Missed Pickup   \n",
      "12           25359   11/1/2017  Trash - Curbside/Alley Missed Pickup   \n",
      "15           25371   11/1/2017  Trash - Curbside/Alley Missed Pickup   \n",
      "19           25454   11/1/2017  Trash - Curbside/Alley Missed Pickup   \n",
      "24           25496   11/1/2017  Trash - Curbside/Alley Missed Pickup   \n",
      "\n",
      "                               Description       Incident Address      Zip  \\\n",
      "1                 Curb/Trash miss Tuesday.  4028 clarksville pike  37218.0   \n",
      "12  Missed. Does not have access to alley.        830 meridian st  37207.0   \n",
      "15                           Pickup missed  2218 buena vista pike  37218.0   \n",
      "19                                 Missed.        449 westboro dr  37209.0   \n",
      "24                           Missed pickup     1815 woodmont blvd  37215.0   \n",
      "\n",
      "   Trash Hauler Trash Route  Council District  State Plan X  State Plan Y  \\\n",
      "1     RED RIVER        4202               1.0   1721259.366   685444.7996   \n",
      "12        METRO        9207               5.0   1741744.712   675328.6661   \n",
      "15    RED RIVER        4204               2.0   1724505.766   679777.5997   \n",
      "19    RED RIVER        4201              20.0   1710615.090   661992.3307   \n",
      "24    RED RIVER        3305              25.0   1730532.216   648861.6319   \n",
      "\n",
      "          lng        lat  \n",
      "1  -86.838103  36.213470  \n",
      "12 -86.768395  36.186144  \n",
      "15 -86.826936  36.197979  \n",
      "19 -86.873474  36.148793  \n",
      "24 -86.805650  36.113194  \n"
     ]
    }
   ],
   "source": [
    "trash_hauler_address_count = trash_hauler_missed_pickup['Incident Address'].value_counts()\n",
    "repeated_addresses = trash_hauler_address_count[trash_hauler_address_count > 1].index\n",
    "\n",
    "repeated_missed_pickups = trash_hauler_missed_pickup[trash_hauler_missed_pickup['Incident Address'].isin(repeated_addresses)]\n",
    "\n",
    "print(repeated_missed_pickups.head())"
   ]
  },
  {
   "cell_type": "code",
   "execution_count": 327,
   "id": "d28ad41c-e7e6-4eb0-ba3c-96e25b327a36",
   "metadata": {},
   "outputs": [
    {
     "name": "stdout",
     "output_type": "stream",
     "text": [
      "Incident Address\n",
      "12546 old hickory blvd, nashville, tn 37013, united states    19\n",
      "5135 hickory hollow pkwy                                      17\n",
      "802 crescent rd, nashville, tn 37205, united states           17\n",
      "1816 jo johnston ave, nashville, tn 37203, united states      16\n",
      "3710 n natchez ct                                             15\n",
      "                                                              ..\n",
      "4547 artelia dr                                                2\n",
      "628 w old hickory blvd, nashville, tn 37115, united states     2\n",
      "659 roosevelt ave, nashville, tn 37115, united states          2\n",
      "908 n 14th st, nashville, tn 37206, united states              2\n",
      "643 e campbell rd                                              2\n",
      "Name: count, Length: 2311, dtype: int64\n"
     ]
    }
   ],
   "source": [
    "count_check=repeated_missed_pickups['Incident Address'].value_counts()\n",
    "print(count_check)"
   ]
  },
  {
   "cell_type": "code",
   "execution_count": 329,
   "id": "4af3e44b-2f1a-4dfd-9d75-351285c50cf4",
   "metadata": {},
   "outputs": [
    {
     "name": "stdout",
     "output_type": "stream",
     "text": [
      "Request Number      6124\n",
      "Date Opened         6124\n",
      "Request             6124\n",
      "Description         6116\n",
      "Incident Address    6124\n",
      "Zip                 6114\n",
      "Trash Hauler        5818\n",
      "Trash Route         5804\n",
      "Council District    6117\n",
      "State Plan X        6118\n",
      "State Plan Y        6118\n",
      "lng                 6118\n",
      "lat                 6118\n",
      "dtype: int64\n"
     ]
    }
   ],
   "source": [
    "print(repeated_missed_pickups.count())"
   ]
  },
  {
   "cell_type": "code",
   "execution_count": 331,
   "id": "b1d8cdcf-7786-4315-a711-cbb1f32c65ac",
   "metadata": {},
   "outputs": [
    {
     "name": "stdout",
     "output_type": "stream",
     "text": [
      "Request\n",
      "Trash - Curbside/Alley Missed Pickup    6124\n",
      "Name: count, dtype: int64\n"
     ]
    }
   ],
   "source": [
    "repeated_missed_pickups_type_check = repeated_missed_pickups['Request'].value_counts()\n",
    "print(repeated_missed_pickups_type_check)"
   ]
  },
  {
   "cell_type": "code",
   "execution_count": 333,
   "id": "273608bc-4b46-45b7-977e-f4ed390aeeaa",
   "metadata": {},
   "outputs": [
    {
     "name": "stdout",
     "output_type": "stream",
     "text": [
      "   Request Number Date Opened                               Request  \\\n",
      "2           25276   11/1/2017  Trash - Curbside/Alley Missed Pickup   \n",
      "3           25307   11/1/2017  Trash - Curbside/Alley Missed Pickup   \n",
      "4           25312   11/1/2017  Trash - Curbside/Alley Missed Pickup   \n",
      "8           25330   11/1/2017  Trash - Curbside/Alley Missed Pickup   \n",
      "9           25331   11/1/2017  Trash - Curbside/Alley Missed Pickup   \n",
      "\n",
      "                         Description               Incident Address      Zip  \\\n",
      "2           Curb/trash miss Tuesday.            6528 thunderbird dr  37209.0   \n",
      "3                             missed           2603 old matthews rd  37207.0   \n",
      "4  Missed the even side of the road.                  604 croley dr  37209.0   \n",
      "8                            Missed.  4484 lavergne couchville pike  37013.0   \n",
      "9  Trash missed Tuesday again, ALLEY                1206 ireland st  37208.0   \n",
      "\n",
      "  Trash Hauler Trash Route  Council District  State Plan X  State Plan Y  \\\n",
      "2    RED RIVER        4205              20.0   1707026.753   659887.4716   \n",
      "3    WASTE IND        2206               2.0   1735691.771   685027.2459   \n",
      "4    RED RIVER        4203              20.0   1710185.772   664205.1011   \n",
      "8    RED RIVER        4210              33.0   1794533.514   618749.3427   \n",
      "9        METRO        9208              19.0   1733029.474   668762.6409   \n",
      "\n",
      "         lng        lat  \n",
      "2 -86.885562  36.142923  \n",
      "3 -86.789170  36.212652  \n",
      "4 -86.874995  36.154861  \n",
      "8 -86.588364  36.031728  \n",
      "9 -86.797745  36.167916  \n"
     ]
    }
   ],
   "source": [
    "trash_hauler_address_count = trash_hauler_missed_pickup['Incident Address'].value_counts()\n",
    "single_incident_address = trash_hauler_address_count[trash_hauler_address_count == 1].index\n",
    "\n",
    "one_missed_pickup = trash_hauler_missed_pickup[trash_hauler_missed_pickup['Incident Address'].isin(single_incident_address)]\n",
    "\n",
    "print(one_missed_pickup.head())"
   ]
  },
  {
   "cell_type": "code",
   "execution_count": 335,
   "id": "1b81710e-5d79-4b58-8ae3-90a8869ea8a6",
   "metadata": {},
   "outputs": [
    {
     "name": "stdout",
     "output_type": "stream",
     "text": [
      "Request\n",
      "Trash - Curbside/Alley Missed Pickup    8896\n",
      "Name: count, dtype: int64\n"
     ]
    }
   ],
   "source": [
    "one_missed_pickup_type_check = one_missed_pickup['Request'].value_counts()\n",
    "print(one_missed_pickup_type_check)"
   ]
  },
  {
   "cell_type": "code",
   "execution_count": 337,
   "id": "68a61fa8-008b-4163-8177-2c890d3bd7d2",
   "metadata": {},
   "outputs": [
    {
     "name": "stdout",
     "output_type": "stream",
     "text": [
      "Request Number      8896\n",
      "Date Opened         8896\n",
      "Request             8896\n",
      "Description         8875\n",
      "Incident Address    8896\n",
      "Zip                 8856\n",
      "Trash Hauler        8602\n",
      "Trash Route         8599\n",
      "Council District    8872\n",
      "State Plan X        8887\n",
      "State Plan Y        8887\n",
      "lng                 8887\n",
      "lat                 8887\n",
      "dtype: int64\n"
     ]
    }
   ],
   "source": [
    "print(one_missed_pickup.count())"
   ]
  },
  {
   "cell_type": "code",
   "execution_count": 339,
   "id": "8be30e7b-7fe4-4c9a-aee0-5818f0221eeb",
   "metadata": {},
   "outputs": [
    {
     "name": "stdout",
     "output_type": "stream",
     "text": [
      "       Request Number Date Opened                               Request  \\\n",
      "625             33128  12/13/2017  Trash - Curbside/Alley Missed Pickup   \n",
      "875             35857  12/29/2017  Trash - Curbside/Alley Missed Pickup   \n",
      "1154            39689   1/17/2018  Trash - Curbside/Alley Missed Pickup   \n",
      "1346            41604   1/24/2018  Trash - Curbside/Alley Missed Pickup   \n",
      "2794            58920    4/6/2018  Trash - Curbside/Alley Missed Pickup   \n",
      "2839            59517   4/10/2018  Trash - Curbside/Alley Missed Pickup   \n",
      "3121            62051   4/22/2018  Trash - Curbside/Alley Missed Pickup   \n",
      "11049          157096   3/20/2019  Trash - Curbside/Alley Missed Pickup   \n",
      "\n",
      "                                             Description Incident Address  \\\n",
      "625                                              Missed.              NaN   \n",
      "875                        daughters car parked in front              NaN   \n",
      "1154          Trash pick up not done for Tuesday 1/16/18              NaN   \n",
      "1346                                      cart still out              NaN   \n",
      "2794                                       missed- trash              NaN   \n",
      "2839                    Trash was not pick up last week.              NaN   \n",
      "3121   They forgot to pick up trash from apartment co...              NaN   \n",
      "11049  Trash has not been picked up on the whole street.              NaN   \n",
      "\n",
      "           Zip Trash Hauler Trash Route  Council District  State Plan X  \\\n",
      "625        NaN          NaN         NaN               NaN           NaN   \n",
      "875        NaN          NaN         NaN               NaN           NaN   \n",
      "1154       NaN          NaN         NaN               NaN           NaN   \n",
      "1346   37218.0    RED RIVER        3203               1.0   1715186.450   \n",
      "2794   37206.0        METRO        9503               5.0   1747402.049   \n",
      "2839       NaN          NaN         NaN               NaN           NaN   \n",
      "3121       NaN          NaN         NaN               NaN           NaN   \n",
      "11049      NaN          NaN         NaN               NaN           NaN   \n",
      "\n",
      "       State Plan Y        lng        lat  \n",
      "625             NaN        NaN        NaN  \n",
      "875             NaN        NaN        NaN  \n",
      "1154            NaN        NaN        NaN  \n",
      "1346    682289.9617 -86.858594  36.204659  \n",
      "2794    674741.0561 -86.749210  36.184650  \n",
      "2839            NaN        NaN        NaN  \n",
      "3121            NaN        NaN        NaN  \n",
      "11049           NaN        NaN        NaN  \n"
     ]
    }
   ],
   "source": [
    "accounted_for_mp = pd.concat([one_missed_pickup, repeated_missed_pickups]).index #putting the two dfs I made above together\n",
    "#using \"~\" changes isin to false (is not in)\n",
    "unaccounted_missed_pickups = trash_hauler_missed_pickup[~trash_hauler_missed_pickup.index.isin(accounted_for_mp)] #filtering out the ones factored\n",
    "print(unaccounted_missed_pickups)"
   ]
  },
  {
   "cell_type": "markdown",
   "id": "6995ea55-4c13-4421-b9c6-e73919027a5a",
   "metadata": {},
   "source": [
    "If there is only one missed pickup using .cumcount() will put a 0 in the occurance column by giving you a running count of each address starting at 0.\n",
    "Use .reset_index(drop=True), after sorting the values by the 'Incident Address', puts them in order and makes it easier to count the 'Occurrence'."
   ]
  },
  {
   "cell_type": "code",
   "execution_count": 341,
   "id": "c1a88a05-b83c-4a4d-b0e1-d4694e0e75d5",
   "metadata": {},
   "outputs": [
    {
     "name": "stdout",
     "output_type": "stream",
     "text": [
      "   Request Number Date Opened                               Request  \\\n",
      "0           79395   6/29/2018  Trash - Curbside/Alley Missed Pickup   \n",
      "1           79884    7/2/2018  Trash - Curbside/Alley Missed Pickup   \n",
      "2          155122   3/15/2019  Trash - Curbside/Alley Missed Pickup   \n",
      "3           52252    3/7/2018  Trash - Curbside/Alley Missed Pickup   \n",
      "4          121431   12/5/2018  Trash - Curbside/Alley Missed Pickup   \n",
      "\n",
      "                                         Description  \\\n",
      "0                       the entire street was missed   \n",
      "1  Missed entire street- carts are curbside in fr...   \n",
      "2                                               MISS   \n",
      "3                                      Missed- trash   \n",
      "4                                      Missed- trash   \n",
      "\n",
      "                                    Incident Address      Zip Trash Hauler  \\\n",
      "0                              1 belle forrest ave c  37206.0        METRO   \n",
      "1                               10 belle forrest ave  37206.0        METRO   \n",
      "2  100 bluefield square, nashville, tn 37214, uni...  37214.0    RED RIVER   \n",
      "3                                100 braxton hill ct  37204.0    RED RIVER   \n",
      "4                                100 brook hollow rd  37205.0    RED RIVER   \n",
      "\n",
      "  Trash Route  Council District  State Plan X  State Plan Y        lng  \\\n",
      "0        9502               7.0   1751942.483   677895.3105 -86.733905   \n",
      "1        9502               7.0   1751718.498   678077.9341 -86.734668   \n",
      "2        1505              15.0   1770430.599   666861.6014 -86.670995   \n",
      "3       3302S              25.0   1733780.504   640909.3036 -86.794435   \n",
      "4        1303              23.0   1708042.849   642454.6429 -86.881589   \n",
      "\n",
      "         lat  Occurrence  Fine  \n",
      "0  36.193409           0     0  \n",
      "1  36.193906           0     0  \n",
      "2  36.163465           0     0  \n",
      "3  36.091422           0     0  \n",
      "4  36.095062           0     0  \n"
     ]
    }
   ],
   "source": [
    "trash_hauler_missed_pickup = trash_hauler_missed_pickup.dropna(subset=['Incident Address'])\n",
    "\n",
    "trash_hauler_missed_pickup = trash_hauler_missed_pickup.sort_values(by='Incident Address').reset_index(drop=True)\n",
    "\n",
    "trash_hauler_missed_pickup['Occurrence'] = trash_hauler_missed_pickup.groupby('Incident Address').cumcount()\n",
    "\n",
    "trash_hauler_missed_pickup['Fine'] = trash_hauler_missed_pickup['Occurrence'].apply(lambda x: 200 if x >= 1 else 0)\n",
    "\n",
    "\n",
    "print(trash_hauler_missed_pickup.head())"
   ]
  },
  {
   "cell_type": "code",
   "execution_count": 343,
   "id": "81a65c97-c960-4a51-873a-3dd9f4c6af6c",
   "metadata": {},
   "outputs": [
    {
     "name": "stdout",
     "output_type": "stream",
     "text": [
      "Request Number      15020\n",
      "Date Opened         15020\n",
      "Request             15020\n",
      "Description         14991\n",
      "Incident Address    15020\n",
      "Zip                 14970\n",
      "Trash Hauler        14420\n",
      "Trash Route         14403\n",
      "Council District    14989\n",
      "State Plan X        15005\n",
      "State Plan Y        15005\n",
      "lng                 15005\n",
      "lat                 15005\n",
      "Occurrence          15020\n",
      "Fine                15020\n",
      "dtype: int64\n"
     ]
    }
   ],
   "source": [
    "print(trash_hauler_missed_pickup.count())"
   ]
  },
  {
   "cell_type": "code",
   "execution_count": 345,
   "id": "33ac1b84-e901-46ec-a69e-beac1c65670a",
   "metadata": {},
   "outputs": [
    {
     "name": "stdout",
     "output_type": "stream",
     "text": [
      "762600\n"
     ]
    }
   ],
   "source": [
    "print(trash_hauler_missed_pickup['Fine'].sum())"
   ]
  },
  {
   "cell_type": "code",
   "execution_count": 347,
   "id": "a0b0a8b2-3db6-46fb-8740-9b5a5ab05aeb",
   "metadata": {},
   "outputs": [
    {
     "name": "stdout",
     "output_type": "stream",
     "text": [
      "Trash Hauler\n",
      "METRO        128200\n",
      "Metro          3200\n",
      "RED RIVER    539800\n",
      "WASTE IND     48400\n",
      "NaN           43000\n",
      "Name: Fine, dtype: int64\n"
     ]
    }
   ],
   "source": [
    "trash_hauler_mp_company= trash_hauler_missed_pickup.groupby('Trash Hauler',dropna=False)['Fine'].sum()\n",
    "print(trash_hauler_mp_company)"
   ]
  },
  {
   "cell_type": "code",
   "execution_count": 349,
   "id": "d5fdcc2a-a6cc-432b-831a-5f4d3b36b04e",
   "metadata": {},
   "outputs": [
    {
     "name": "stdout",
     "output_type": "stream",
     "text": [
      "600\n"
     ]
    }
   ],
   "source": [
    "nan_count = trash_hauler_missed_pickup['Trash Hauler'].isna().sum()\n",
    "print(nan_count)"
   ]
  },
  {
   "cell_type": "code",
   "execution_count": 351,
   "id": "057661c1-202d-4ac2-a318-96dc1d606f96",
   "metadata": {},
   "outputs": [
    {
     "name": "stdout",
     "output_type": "stream",
     "text": [
      "Trash Route\n",
      "NaN     617\n",
      "4504    305\n",
      "4404    246\n",
      "3302    230\n",
      "3305    215\n",
      "Name: Request Number, dtype: int64\n"
     ]
    }
   ],
   "source": [
    "missed_count_route=trash_hauler_missed_pickup.groupby('Trash Route',dropna=False)['Request Number'].count().sort_values(ascending=False)\n",
    "print(missed_count_route.head(5))"
   ]
  },
  {
   "cell_type": "code",
   "execution_count": null,
   "id": "72e45819-2919-4c3c-a894-e479168bf936",
   "metadata": {},
   "outputs": [],
   "source": []
  }
 ],
 "metadata": {
  "kernelspec": {
   "display_name": "Python [conda env:geospatial]",
   "language": "python",
   "name": "conda-env-geospatial-py"
  },
  "language_info": {
   "codemirror_mode": {
    "name": "ipython",
    "version": 3
   },
   "file_extension": ".py",
   "mimetype": "text/x-python",
   "name": "python",
   "nbconvert_exporter": "python",
   "pygments_lexer": "ipython3",
   "version": "3.10.17"
  }
 },
 "nbformat": 4,
 "nbformat_minor": 5
}
